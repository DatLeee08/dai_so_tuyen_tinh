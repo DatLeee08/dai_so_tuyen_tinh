{
 "cells": [
  {
   "cell_type": "code",
   "execution_count": 1,
   "id": "6296938c",
   "metadata": {},
   "outputs": [
    {
     "name": "stdout",
     "output_type": "stream",
     "text": [
      "Câu 1a:\n",
      "A + B = [2 3 1 6]\n",
      "2A + 3B = [ 3 11  2 14]\n",
      "\n",
      "Câu 1b:\n",
      "A · B = -5\n",
      "Góc giữa A và B (độ) = 99.594\n",
      "\n",
      "Câu 1c:\n",
      "C * C^T =\n",
      " [[14 -8 13]\n",
      " [-8 21 -2]\n",
      " [13 -2 29]]\n"
     ]
    }
   ],
   "source": [
    "import numpy as np\n",
    "A = np.array([3, -2, 1, 4])\n",
    "B = np.array([-1, 5, 0, 2])\n",
    "# a)\n",
    "print(\"Câu 1a:\")\n",
    "print(\"A + B =\", A + B)\n",
    "print(\"2A + 3B =\", 2*A + 3*B)\n",
    "# b)\n",
    "print(\"\\nCâu 1b:\")\n",
    "dot_product = np.dot(A, B)\n",
    "angle = np.degrees(np.arccos(dot_product / (np.linalg.norm(A) * np.linalg.norm(B))))\n",
    "print(\"A · B =\", dot_product)\n",
    "print(\"Góc giữa A và B (độ) =\", round(angle, 3))\n",
    "# c)\n",
    "print(\"\\nCâu 1c:\")\n",
    "C = np.array([\n",
    "    [2, -1, 3],\n",
    "    [1, 4, -2],\n",
    "    [0, 2, 5]\n",
    "])\n",
    "CCT = np.dot(C, C.T)\n",
    "print(\"C * C^T =\\n\", CCT)\n"
   ]
  },
  {
   "cell_type": "code",
   "execution_count": 2,
   "id": "50b4cb36",
   "metadata": {},
   "outputs": [
    {
     "name": "stdout",
     "output_type": "stream",
     "text": [
      "Câu 2a:\n",
      "M × N =\n",
      " [[ -2  13   0  -5]\n",
      " [  2   0  12  30]\n",
      " [ 17   7  28 -14]\n",
      " [-13   3   5  15]]\n",
      "\n",
      "Câu 2b:\n",
      "Định thức M = 409.0\n",
      "\n",
      "Câu 2c:\n",
      "Hạng của N = 4\n"
     ]
    }
   ],
   "source": [
    "import numpy as np\n",
    "M = np.array([\n",
    "    [2, -1, 3, 0],\n",
    "    [1, 4, -2, 5],\n",
    "    [0, 2, 6, -3],\n",
    "    [-1, 0, 1, 4]\n",
    "])\n",
    "N = np.array([\n",
    "    [1, 3, -2, 0],\n",
    "    [4, -1, 5, 2],\n",
    "    [0, 2, 3, -1],\n",
    "    [-3, 1, 0, 4]\n",
    "])\n",
    "# a)\n",
    "print(\"Câu 2a:\\nM × N =\\n\", np.dot(M, N))\n",
    "# b)\n",
    "print(\"\\nCâu 2b:\")\n",
    "try:\n",
    "    print(\"Định thức M =\", round(np.linalg.det(M), 3))\n",
    "except:\n",
    "    print(\"Không thể tính định thức M\")\n",
    "# c)\n",
    "print(\"\\nCâu 2c:\")\n",
    "print(\"Hạng của N =\", np.linalg.matrix_rank(N))\n"
   ]
  },
  {
   "cell_type": "code",
   "execution_count": 3,
   "id": "7631a3c0",
   "metadata": {},
   "outputs": [
    {
     "name": "stdout",
     "output_type": "stream",
     "text": [
      "Câu 3a:\n",
      "Ma trận nghịch đảo P⁻¹ =\n",
      " [[ 0.5         0.1         0.1        -0.3       ]\n",
      " [-0.14285714  0.2         0.05714286  0.11428571]\n",
      " [-0.03571429 -0.05        0.16428571  0.07857143]\n",
      " [-0.32142857 -0.05       -0.12142857  0.50714286]]\n",
      "\n",
      "Câu 3b:\n",
      "Nghiệm x = [2.         1.71428571 0.42857143 0.85714286]\n",
      "\n",
      "Câu 3c:\n",
      "P @ x = [6. 8. 3. 7.]\n",
      "So với b  = [6 8 3 7]\n"
     ]
    }
   ],
   "source": [
    "import numpy as np\n",
    "P = np.array([\n",
    "    [3, -1, 0, 2],\n",
    "    [1, 4, -2, 0],\n",
    "    [0, 1, 5, -1],\n",
    "    [2, 0, 1, 3]\n",
    "])\n",
    "b = np.array([6, 8, 3, 7])\n",
    "# a)\n",
    "print(\"Câu 3a:\")\n",
    "try:\n",
    "    P_inv = np.linalg.inv(P)\n",
    "    print(\"Ma trận nghịch đảo P⁻¹ =\\n\", P_inv)\n",
    "except np.linalg.LinAlgError:\n",
    "    print(\"P không khả nghịch\")\n",
    "# b)\n",
    "print(\"\\nCâu 3b:\")\n",
    "x = np.dot(P_inv, b)\n",
    "print(\"Nghiệm x =\", x)\n",
    "# c)\n",
    "print(\"\\nCâu 3c:\")\n",
    "print(\"P @ x =\", np.dot(P, x))\n",
    "print(\"So với b  =\", b)\n"
   ]
  },
  {
   "cell_type": "code",
   "execution_count": 4,
   "id": "32f3a9e3",
   "metadata": {},
   "outputs": [
    {
     "name": "stdout",
     "output_type": "stream",
     "text": [
      "Câu 4a:\n",
      "Giá trị riêng = [6.3553014+0.j         2.8223493+1.07730381j 2.8223493-1.07730381j]\n",
      "\n",
      "Câu 4b:\n",
      "Vector riêng ứng với λ=6.355+0.000j: [ 0.74846013+0.j -0.18941773+0.j  0.63555359+0.j]\n",
      "Vector riêng ứng với λ=2.822+1.077j: [-0.37423006+0.34234215j  0.09470887+0.57433055j  0.63555359+0.j        ]\n",
      "Vector riêng ứng với λ=2.822-1.077j: [-0.37423006-0.34234215j  0.09470887-0.57433055j  0.63555359-0.j        ]\n",
      "\n",
      "Câu 4c:\n",
      "Vector riêng chuẩn hóa v1 = [ 0.74846013+0.j -0.18941773+0.j  0.63555359+0.j]\n",
      "Vector riêng chuẩn hóa v2 = [-0.37423006+0.34234215j  0.09470887+0.57433055j  0.63555359+0.j        ]\n",
      "Vector riêng chuẩn hóa v3 = [-0.37423006-0.34234215j  0.09470887-0.57433055j  0.63555359-0.j        ]\n"
     ]
    }
   ],
   "source": [
    "import numpy as np\n",
    "Q = np.array([\n",
    "    [5, -2, 1],\n",
    "    [0, 3, -1],\n",
    "    [2, 0, 4]\n",
    "])\n",
    "eig_vals, eig_vecs = np.linalg.eig(Q)\n",
    "print(\"Câu 4a:\")\n",
    "print(\"Giá trị riêng =\", eig_vals)\n",
    "print(\"\\nCâu 4b:\")\n",
    "for i in range(len(eig_vals)):\n",
    "    print(f\"Vector riêng ứng với λ={eig_vals[i]:.3f}: {eig_vecs[:, i]}\")\n",
    "print(\"\\nCâu 4c:\")\n",
    "for i in range(len(eig_vals)):\n",
    "    normed = eig_vecs[:, i] / np.linalg.norm(eig_vecs[:, i])\n",
    "    print(f\"Vector riêng chuẩn hóa v{i+1} =\", normed)\n"
   ]
  },
  {
   "cell_type": "code",
   "execution_count": 5,
   "id": "980b4b74",
   "metadata": {},
   "outputs": [
    {
     "name": "stdout",
     "output_type": "stream",
     "text": [
      "Câu 5a:\n",
      "Nghiệm x = [2.78823529 1.52941176 1.18823529]\n",
      "\n",
      "Câu 5b:\n",
      "R khả nghịch, R⁻¹ =\n",
      " [[ 0.22352941  0.10588235 -0.04705882]\n",
      " [-0.05882353  0.23529412  0.11764706]\n",
      " [ 0.02352941 -0.09411765  0.15294118]]\n",
      "Giải lại x = [2.78823529 1.52941176 1.18823529]\n",
      "\n",
      "Câu 5c:\n",
      "Chuẩn Frobenius của R = 8.0\n"
     ]
    }
   ],
   "source": [
    "import numpy as n\n",
    "R = np.array([\n",
    "    [4, -1, 2],\n",
    "    [1, 3, -2],\n",
    "    [0, 2, 5]\n",
    "])\n",
    "b = np.array([12, 5, 9])\n",
    "# a)\n",
    "print(\"Câu 5a:\")\n",
    "x = np.linalg.solve(R, b)\n",
    "print(\"Nghiệm x =\", x)\n",
    "# b)\n",
    "print(\"\\nCâu 5b:\")\n",
    "try:\n",
    "    R_inv = np.linalg.inv(R)\n",
    "    x_check = np.dot(R_inv, b)\n",
    "    print(\"R khả nghịch, R⁻¹ =\\n\", R_inv)\n",
    "    print(\"Giải lại x =\", x_check)\n",
    "except np.linalg.LinAlgError:\n",
    "    print(\"R không khả nghịch\")\n",
    "# c)\n",
    "print(\"\\nCâu 5c:\")\n",
    "fro = np.linalg.norm(R, ord='fro')\n",
    "print(\"Chuẩn Frobenius của R =\", round(fro, 3))\n"
   ]
  }
 ],
 "metadata": {
  "kernelspec": {
   "display_name": "Python 3",
   "language": "python",
   "name": "python3"
  },
  "language_info": {
   "codemirror_mode": {
    "name": "ipython",
    "version": 3
   },
   "file_extension": ".py",
   "mimetype": "text/x-python",
   "name": "python",
   "nbconvert_exporter": "python",
   "pygments_lexer": "ipython3",
   "version": "3.13.0"
  }
 },
 "nbformat": 4,
 "nbformat_minor": 5
}
