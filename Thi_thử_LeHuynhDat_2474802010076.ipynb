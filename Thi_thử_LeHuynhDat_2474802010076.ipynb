{
 "cells": [
  {
   "cell_type": "code",
   "execution_count": 67,
   "id": "c363216e",
   "metadata": {},
   "outputs": [],
   "source": [
    "import numpy as np\n",
    "from numpy.linalg import inv, det, matrix_rank, norm\n",
    "from scipy.linalg import eig"
   ]
  },
  {
   "cell_type": "code",
   "execution_count": 68,
   "id": "ab99ded7",
   "metadata": {},
   "outputs": [],
   "source": [
    "#Câu 1\n",
    "def question1():\n",
    "    A = np.array([2, -1, 3, 0])\n",
    "    B = np.array([1, 4, -2, 5])\n",
    "    C = np.array([[1, 2, -1], [0, 3, 4], [2, -1, 0]])\n",
    "\n",
    "    A_plus_B = A + B\n",
    "    expr = 3 * A - 2 * B\n",
    "    dot_AB = np.dot(A, B)\n",
    "    angle = np.degrees(np.arccos(dot_AB / (norm(A) * norm(B))))\n",
    "    CTC = C.T @ C\n",
    "\n",
    "    print(\"Câu 1:\")\n",
    "    print(\"  A + B             =\", A_plus_B)\n",
    "    print(\"  3A - 2B           =\", expr)\n",
    "    print(\"  A · B             =\", dot_AB)\n",
    "    print(\"  Góc giữa A và B   =\", round(angle, 3), \"độ\")\n",
    "    print(\"  C^T * C           =\\n\", CTC)\n"
   ]
  },
  {
   "cell_type": "code",
   "execution_count": 69,
   "id": "8898ed8d",
   "metadata": {},
   "outputs": [],
   "source": [
    "#Câu 2\n",
    "def question2():\n",
    "    M = np.array([[1, 2, 3, 0], [4, 5, 6, 1], [7, 8, 9, 2], [0, 1, 1, 0]])\n",
    "    N = np.array([[0, 1, 2, 3], [4, 5, 6, 7], [8, 9, 10, 11], [12, 13, 14, 15]])\n",
    "\n",
    "    MN = M @ N\n",
    "    det_M = det(M)\n",
    "    rank_N = matrix_rank(N)\n",
    "\n",
    "    print(\"\\nCâu 2:\")\n",
    "    print(\"  M * N             =\\n\", MN)\n",
    "    print(\"  Định thức M       =\", det_M)\n",
    "    print(\"  Hạng của N        =\", rank_N)\n"
   ]
  },
  {
   "cell_type": "code",
   "execution_count": 70,
   "id": "55a6b472",
   "metadata": {},
   "outputs": [],
   "source": [
    "#Câu 3\n",
    "def question3():\n",
    "    P = np.array([[2, 1, 0, 1], [0, 3, 1, -1], [1, 0, 4, 2], [0, 1, 0, 3]])\n",
    "    b_vec = np.array([4, 7, 9, 5])\n",
    "\n",
    "    try:\n",
    "        P_inv = inv(P)\n",
    "        x_sol = P_inv @ b_vec\n",
    "        Px_check = P @ x_sol\n",
    "    except np.linalg.LinAlgError:\n",
    "        P_inv = None\n",
    "        x_sol = None\n",
    "        Px_check = None\n",
    "\n",
    "    print(\"\\nCâu 3:\")\n",
    "    print(\"  Nghịch đảo P      =\\n\", P_inv)\n",
    "    print(\"  Nghiệm hệ Px = b  =\", x_sol)\n",
    "    print(\"  Kiểm tra P*x      =\", Px_check)\n"
   ]
  },
  {
   "cell_type": "code",
   "execution_count": 71,
   "id": "eeb33254",
   "metadata": {},
   "outputs": [],
   "source": [
    "#Câu 4\n",
    "def question4():\n",
    "    Q = np.array([[4, -1, 0], [1, 3, -2], [0, 1, 2]])\n",
    "    eigenvalues, eigenvectors = eig(Q)\n",
    "    normalized_vectors = np.array([v / norm(v) for v in eigenvectors.T])\n",
    "\n",
    "    print(\"\\nCâu 4:\")\n",
    "    print(\"  Giá trị riêng     =\", eigenvalues)\n",
    "    print(\"  Vector riêng      =\\n\", eigenvectors)\n",
    "    print(\"  Vector chuẩn hóa  =\\n\", normalized_vectors)\n"
   ]
  },
  {
   "cell_type": "code",
   "execution_count": 72,
   "id": "7c98ce4c",
   "metadata": {},
   "outputs": [],
   "source": [
    "#Câu 5\n",
    "def question5():\n",
    "    R = np.array([[1, -2, 3], [2, 0, 1], [-1, 1, 4]])\n",
    "    b5 = np.array([10, 8, 7])\n",
    "    x5 = np.linalg.solve(R, b5)\n",
    "    try:\n",
    "        R_inv = inv(R)\n",
    "        x5_by_inverse = R_inv @ b5\n",
    "    except np.linalg.LinAlgError:\n",
    "        R_inv = None\n",
    "        x5_by_inverse = None\n",
    "    fro_norm = norm(R, 'fro')\n",
    "    print(\"\\nCâu 5:\")\n",
    "    print(\"  Nghiệm Rx = b      =\", x5)\n",
    "    print(\"  Nghịch đảo R       =\\n\", R_inv)\n",
    "    print(\"  Nghiệm bằng R^-1*b =\", x5_by_inverse)\n",
    "    print(\"  Chuẩn Frobenius    =\", fro_norm)\n"
   ]
  },
  {
   "cell_type": "code",
   "execution_count": 77,
   "id": "cae26605",
   "metadata": {},
   "outputs": [
    {
     "name": "stdout",
     "output_type": "stream",
     "text": [
      "Câu 1:\n",
      "  A + B             = [3 3 1 5]\n",
      "  3A - 2B           = [  4 -11  13 -10]\n",
      "  A · B             = -8\n",
      "  Góc giữa A và B   = 108.376 độ\n",
      "  C^T * C           =\n",
      " [[ 5  0 -1]\n",
      " [ 0 14 10]\n",
      " [-1 10 17]]\n",
      "\n",
      "Câu 2:\n",
      "  M * N             =\n",
      " [[ 32  38  44  50]\n",
      " [ 80  96 112 128]\n",
      " [128 154 180 206]\n",
      " [ 12  14  16  18]]\n",
      "  Định thức M       = 6.66133814775094e-16\n",
      "  Hạng của N        = 2\n",
      "\n",
      "Câu 3:\n",
      "  Nghịch đảo P      =\n",
      " [[ 0.48837209 -0.09302326  0.02325581 -0.20930233]\n",
      " [ 0.03488372  0.27906977 -0.06976744  0.12790698]\n",
      " [-0.11627907  0.06976744  0.23255814 -0.09302326]\n",
      " [-0.01162791 -0.09302326  0.02325581  0.29069767]]\n",
      "  Nghiệm hệ Px = b  = [0.46511628 2.10465116 1.65116279 0.96511628]\n",
      "  Kiểm tra P*x      = [4. 7. 9. 5.]\n",
      "\n",
      "Câu 4:\n",
      "  Giá trị riêng     = [3.45339765+0.j         2.77330117+1.46771151j 2.77330117-1.46771151j]\n",
      "  Vector riêng      =\n",
      " [[ 0.83327121+0.j         -0.26206044-0.31354813j -0.26206044+0.31354813j]\n",
      " [ 0.455468  +0.j         -0.78166743+0.j         -0.78166743-0.j        ]\n",
      " [ 0.31338154+0.j         -0.21963176+0.41685708j -0.21963176-0.41685708j]]\n",
      "  Vector chuẩn hóa  =\n",
      " [[ 0.83327121+0.j          0.455468  +0.j          0.31338154+0.j        ]\n",
      " [-0.26206044-0.31354813j -0.78166743+0.j         -0.21963176+0.41685708j]\n",
      " [-0.26206044+0.31354813j -0.78166743+0.j         -0.21963176-0.41685708j]]\n",
      "\n",
      "Câu 5:\n",
      "  Nghiệm Rx = b      = [2.7826087  0.04347826 2.43478261]\n",
      "  Nghịch đảo R       =\n",
      " [[-0.04347826  0.47826087 -0.08695652]\n",
      " [-0.39130435  0.30434783  0.2173913 ]\n",
      " [ 0.08695652  0.04347826  0.17391304]]\n",
      "  Nghiệm bằng R^-1*b = [2.7826087  0.04347826 2.43478261]\n",
      "  Chuẩn Frobenius    = 6.082762530298219\n"
     ]
    }
   ],
   "source": [
    "question1()\n",
    "question2()\n",
    "question3()\n",
    "question4()\n",
    "question5()\n"
   ]
  }
 ],
 "metadata": {
  "kernelspec": {
   "display_name": "Python 3",
   "language": "python",
   "name": "python3"
  },
  "language_info": {
   "codemirror_mode": {
    "name": "ipython",
    "version": 3
   },
   "file_extension": ".py",
   "mimetype": "text/x-python",
   "name": "python",
   "nbconvert_exporter": "python",
   "pygments_lexer": "ipython3",
   "version": "3.13.0"
  }
 },
 "nbformat": 4,
 "nbformat_minor": 5
}
